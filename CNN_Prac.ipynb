{
  "nbformat": 4,
  "nbformat_minor": 0,
  "metadata": {
    "colab": {
      "name": "CNN Prac.ipynb",
      "version": "0.3.2",
      "provenance": [],
      "include_colab_link": true
    },
    "kernelspec": {
      "name": "python3",
      "display_name": "Python 3"
    }
  },
  "cells": [
    {
      "cell_type": "markdown",
      "metadata": {
        "id": "view-in-github",
        "colab_type": "text"
      },
      "source": [
        "<a href=\"https://colab.research.google.com/github/Mrd278/Accident-Recognition-System/blob/master/CNN_Prac.ipynb\" target=\"_parent\"><img src=\"https://colab.research.google.com/assets/colab-badge.svg\" alt=\"Open In Colab\"/></a>"
      ]
    },
    {
      "cell_type": "code",
      "metadata": {
        "id": "js2ix1mUtag9",
        "colab_type": "code",
        "colab": {}
      },
      "source": [
        "import numpy as np\n",
        "import matplotlib.pyplot as plt"
      ],
      "execution_count": 0,
      "outputs": []
    },
    {
      "cell_type": "code",
      "metadata": {
        "id": "tHMkrdRutf7D",
        "colab_type": "code",
        "colab": {}
      },
      "source": [
        "gray_scale_img = [3,0,1,2,7,4,1,5,8,9,3,1,2,7,2,5,1,3,0,1,3,1,7,8,4,2,1,6,2,8,2,4,5,2,3,9]\n",
        "gray_scale_img = np.asarray(gray_scale_img)\n",
        "gray_scale_img = gray_scale_img.reshape(6,6)"
      ],
      "execution_count": 0,
      "outputs": []
    },
    {
      "cell_type": "code",
      "metadata": {
        "id": "hTT-ndEJuG8n",
        "colab_type": "code",
        "colab": {
          "base_uri": "https://localhost:8080/",
          "height": 287
        },
        "outputId": "8937b303-0351-4766-8bb7-1a48fe9e8d86"
      },
      "source": [
        "plt.imshow(gray_scale_img)"
      ],
      "execution_count": 3,
      "outputs": [
        {
          "output_type": "execute_result",
          "data": {
            "text/plain": [
              "<matplotlib.image.AxesImage at 0x7ff4ee5c5a20>"
            ]
          },
          "metadata": {
            "tags": []
          },
          "execution_count": 3
        },
        {
          "output_type": "display_data",
          "data": {
            "image/png": "[encoded data removed]",
            "text/plain": [
              "<Figure size 432x288 with 1 Axes>"
            ]
          },
          "metadata": {
            "tags": []
          }
        }
      ]
    },
    {
      "cell_type": "code",
      "metadata": {
        "id": "42MgCLkRuLoG",
        "colab_type": "code",
        "colab": {}
      },
      "source": [
        "filt = [1,0,-1,1,0,-1,1,0,-1]\n",
        "filt = np.asarray(filt)\n",
        "filt = filt.reshape(3,3)"
      ],
      "execution_count": 0,
      "outputs": []
    },
    {
      "cell_type": "code",
      "metadata": {
        "id": "p_DSPRezu_yq",
        "colab_type": "code",
        "colab": {}
      },
      "source": [
        "def Result_matrix(gray_img, filt):\n",
        "  \n",
        "  m = gray_img.shape[0]\n",
        "  n = gray_img.shape[1]\n",
        "  \n",
        "  filt_m = filt.shape[0]\n",
        "  filt_n = filt.shape[1]\n",
        "  \n",
        "  A = np.zeros((m-filt_m+1)**2)\n",
        "  k = 0\n",
        "  \n",
        "  while k < (m-filt_m+1):\n",
        "    for i in range(filt_m):\n",
        "      for j in range(filt_n):\n",
        "        A[k] = A[k] + gray_img[i+k][j] * filt[i][j]\n",
        "    k = k + 1\n",
        "  \n",
        "  k = 1\n",
        "  \n",
        "  while k < (n-filt_n+1):\n",
        "    for i in range(filt_m):\n",
        "      for j in range(filt_n):\n",
        "        A[k] = A[k] + gray_img[i][j+k] * filt[i][j]\n",
        "    k = k + 1\n",
        "  \n",
        "  A = A.reshape((m-filt_m+1),(m-filt_m+1))\n",
        "  \n",
        "  return A"
      ],
      "execution_count": 0,
      "outputs": []
    },
    {
      "cell_type": "code",
      "metadata": {
        "id": "karOqXRKvCAT",
        "colab_type": "code",
        "colab": {}
      },
      "source": [
        "C = Result_matrix(gray_scale_img, filt)"
      ],
      "execution_count": 0,
      "outputs": []
    },
    {
      "cell_type": "code",
      "metadata": {
        "id": "ildgbUmRy4-L",
        "colab_type": "code",
        "colab": {
          "base_uri": "https://localhost:8080/",
          "height": 104
        },
        "outputId": "50205169-5cf2-48cd-d11d-a35fe347cd29"
      },
      "source": [
        "print(\"Detecting the edges from the gray scale image: \\n\",C)"
      ],
      "execution_count": 20,
      "outputs": [
        {
          "output_type": "stream",
          "text": [
            "Detecting the edges from the gray scale image: \n",
            " [[ -5. -14.   0.   5.]\n",
            " [  0.   0.   0.   0.]\n",
            " [  0.   0.   0.   0.]\n",
            " [  0.   0.   0.   0.]]\n"
          ],
          "name": "stdout"
        }
      ]
    },
    {
      "cell_type": "code",
      "metadata": {
        "id": "iYtUDlQZzXbW",
        "colab_type": "code",
        "colab": {
          "base_uri": "https://localhost:8080/",
          "height": 287
        },
        "outputId": "28b7ee64-6cc2-4eb0-bb4e-5910620601a9"
      },
      "source": [
        "plt.imshow(C)"
      ],
      "execution_count": 19,
      "outputs": [
        {
          "output_type": "execute_result",
          "data": {
            "text/plain": [
              "<matplotlib.image.AxesImage at 0x7ff4ebad6ba8>"
            ]
          },
          "metadata": {
            "tags": []
          },
          "execution_count": 19
        },
        {
          "output_type": "display_data",
          "data": {
            "image/png": "[encoded data removed]",
            "text/plain": [
              "<Figure size 432x288 with 1 Axes>"
            ]
          },
          "metadata": {
            "tags": []
          }
        }
      ]
    },
    {
      "cell_type": "code",
      "metadata": {
        "id": "3tQqrBKmzd0o",
        "colab_type": "code",
        "colab": {
          "base_uri": "https://localhost:8080/",
          "height": 208
        },
        "outputId": "64a2751f-f1d5-45fe-93c5-03ceb6f22501"
      },
      "source": [
        "print(\"gray image: \\n\",gray_scale_img,\"\\n Filter: \\n\",filt)"
      ],
      "execution_count": 16,
      "outputs": [
        {
          "output_type": "stream",
          "text": [
            "gray image: \n",
            " [[3 0 1 2 7 4]\n",
            " [1 5 8 9 3 1]\n",
            " [2 7 2 5 1 3]\n",
            " [0 1 3 1 7 8]\n",
            " [4 2 1 6 2 8]\n",
            " [2 4 5 2 3 9]] \n",
            " Filter: \n",
            " [[ 1  0 -1]\n",
            " [ 1  0 -1]\n",
            " [ 1  0 -1]]\n"
          ],
          "name": "stdout"
        }
      ]
    },
    {
      "cell_type": "code",
      "metadata": {
        "id": "xsFX08AYztEh",
        "colab_type": "code",
        "colab": {}
      },
      "source": [
        ""
      ],
      "execution_count": 0,
      "outputs": []
    }
  ]
}